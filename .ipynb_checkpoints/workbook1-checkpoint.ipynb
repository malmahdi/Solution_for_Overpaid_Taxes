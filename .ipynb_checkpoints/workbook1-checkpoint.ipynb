{
 "cells": [
  {
   "cell_type": "markdown",
   "id": "06bd732f-9cd7-41e7-b42e-564a9306fb85",
   "metadata": {},
   "source": [
    "# Solution for Overpaid Taxes"
   ]
  },
  {
   "cell_type": "markdown",
   "id": "bb377c55-97c8-48d0-9fea-e17ae9a77766",
   "metadata": {
    "tags": []
   },
   "source": [
    "## Problem Understanding\n",
    "Ask:\n",
    "\n",
    "Develop a data science-based solution to optimize Deloitte Tax's process of identifying and refunding overpaid taxes for their clients. Analyze existing data from the client's accounts payable system to discover potential areas of improvement and create a model to streamline the process. Apply the data science process (attached) to historical client project data and present your findings and model to the Deloitte Tax team.\n",
    "\n",
    "Context:\n",
    "\n",
    "Clients provide 4 years’ worth of export data from their accounts payable system. This covers all areas of their business spending, and can cover multiple different tax jurisdictions. Each jurisdiction can have their own way to treat the taxability for the same items. The main output of the work Deloitte teams do currently are determinations for taxability, which can be ‘taxable’ and ‘non-taxable’. Once this determination is made, overpayments are found by finding when taxes have been paid for transactions that are ‘non-taxable’. This field is labeled “Taxability.STATE.Status” Clients want to understand why determinations are made so that their tax software can be updated to address mistakes previously made. Incorporate this need into the type and complexity of the model selected."
   ]
  },
  {
   "cell_type": "markdown",
   "id": "170c8853-7b58-49ab-bfa3-2b97ada2f29b",
   "metadata": {},
   "source": [
    "Insight:\n",
    "\n",
    "The clients ask presents a  binary classifictaion problem between the two classes of 'taxable' and 'non-taxable' status, as determined in our target variable for this dataset, “Taxability.STATE.Status”."
   ]
  },
  {
   "cell_type": "markdown",
   "id": "5592427b-a20a-4233-a482-2fbe66dfaae9",
   "metadata": {},
   "source": [
    "## Import libraries and load data"
   ]
  },
  {
   "cell_type": "code",
   "execution_count": null,
   "id": "95f14e5c-9773-4d2d-934f-373e06628a96",
   "metadata": {},
   "outputs": [],
   "source": [
    "import pandas as pd\n",
    "import numpy as np\n",
    "import seaborn as sns\n",
    "from ydata_profiling import ProfileReport\n",
    "from sklearn.model_selection import train_test_split, RandomizedSearchCV, StratifiedKFold\n",
    "from sklearn.compose import ColumnTransformer\n",
    "from sklearn.pipeline import Pipeline\n",
    "from sklearn.preprocessing import OneHotEncoder, StandardScaler\n",
    "from sklearn import metrics\n",
    "from sklearn.metrics import mean_squared_error,confusion_matrix\n",
    "from sklearn.metrics import auc,roc_curve, accuracy_score, classification_report\n",
    "from sklearn.model_selection import cross_val_score\n",
    "from sklearn import model_selection\n",
    "import matplotlib.pyplot as plt\n",
    "%matplotlib inline\n",
    "import warnings\n",
    "from sklearn.impute import SimpleImputer\n",
    "from sklearn.ensemble import RandomForestClassifier"
   ]
  },
  {
   "cell_type": "code",
   "execution_count": null,
   "id": "35815e89",
   "metadata": {},
   "outputs": [],
   "source": [
    "# load data\n",
    "data = pd.read_csv(\"Disney_CogTax_CA_Audit_Addl_Training-Working_Transaction.csv\")"
   ]
  },
  {
   "cell_type": "code",
   "execution_count": null,
   "id": "6bc887c5-734e-4d9d-819e-aca55798164a",
   "metadata": {},
   "outputs": [],
   "source": [
    "data.head()"
   ]
  },
  {
   "cell_type": "code",
   "execution_count": null,
   "id": "ff82d8bc-91d2-4f8d-afcc-e311ede12e22",
   "metadata": {},
   "outputs": [],
   "source": [
    "data['@CustomField(Invoice,TaxabilityClassification,Invoice,STRING)']"
   ]
  },
  {
   "cell_type": "markdown",
   "id": "a9138e0f-3f65-4186-b158-c9a85175bca0",
   "metadata": {},
   "source": [
    "## Exploratory Data Analysis (EDA)"
   ]
  },
  {
   "cell_type": "code",
   "execution_count": null,
   "id": "489fd3a8-e746-439e-8a89-270d57f06dd8",
   "metadata": {},
   "outputs": [],
   "source": [
    "# Dataframe shape\n",
    "print('Dataframe shape:')\n",
    "print(data.shape)"
   ]
  },
  {
   "cell_type": "markdown",
   "id": "0b1df235-7cc3-4f15-8341-50ba85cc77d6",
   "metadata": {},
   "source": [
    "This dataframe contains 4457 rows and 61 columns"
   ]
  },
  {
   "cell_type": "markdown",
   "id": "ab58a262-c7b3-46f3-9c58-00613651b4f0",
   "metadata": {},
   "source": [
    "### Univariate Analysis"
   ]
  },
  {
   "cell_type": "code",
   "execution_count": null,
   "id": "1648d728",
   "metadata": {
    "tags": []
   },
   "outputs": [],
   "source": [
    "# Basic info\n",
    "print('Basic Info:')\n",
    "print(data.info())\n",
    "print(' ')"
   ]
  },
  {
   "cell_type": "markdown",
   "id": "50604475-10b2-44d4-bbb1-822bcc8747da",
   "metadata": {},
   "source": [
    "In Basic Info, all dataframe feature column names are listed. There are three data types in this dataset: object, float64, and int64, therefore we have both numerical and categorical data in this dataframe. Several columns are empty and have no entries at all. Here, only three features:\n",
    "\n",
    " 'Taxability.STATE.Exemption.CategoryCode'\n",
    " \n",
    " 'Invoice.VendorCode'\n",
    " \n",
    " 'Invoice.VendorName'\n",
    " \n",
    "are identified as having missing data producing null values."
   ]
  },
  {
   "cell_type": "code",
   "execution_count": null,
   "id": "9ffd89ad-68ae-4266-a421-f76a2f10ada5",
   "metadata": {},
   "outputs": [],
   "source": [
    "data['Taxability.STATE.Status']"
   ]
  },
  {
   "cell_type": "markdown",
   "id": "5feeb461-b847-43bf-b491-998bc265f3a6",
   "metadata": {},
   "source": [
    "This categorical feature is our target variable and gives us the determination for taxability as either 'TAXABLE' or 'NONTAXABLE' ."
   ]
  },
  {
   "cell_type": "markdown",
   "id": "5b94622a-d8fa-4ad7-8cad-7d63b2f7d2a9",
   "metadata": {},
   "source": [
    "## Splitting the data\n",
    "\n",
    "To avoid any future data leakage, now that our target variable is identifed, the dataset will be split into train and test sets."
   ]
  },
  {
   "cell_type": "code",
   "execution_count": null,
   "id": "fd5d15b3-c79c-4869-a68a-cded55af4dce",
   "metadata": {},
   "outputs": [],
   "source": [
    "y = data['Taxability.STATE.Status']\n",
    "X = data.drop(['Taxability.STATE.Status'], axis =1)\n",
    "X_train, X_test, y_train, y_test = train_test_split(X, y, test_size = 0.25, random_state = 42)"
   ]
  },
  {
   "cell_type": "code",
   "execution_count": null,
   "id": "a68d2101",
   "metadata": {},
   "outputs": [],
   "source": [
    "# find dimensions of train and test sets\n",
    "print('X_train dimensions:')\n",
    "print(X_train.shape)\n",
    "print('X_test dimensions:')\n",
    "print(X_test.shape)"
   ]
  },
  {
   "cell_type": "markdown",
   "id": "77a63e01-acb8-46cb-bca0-33b7239d39c5",
   "metadata": {},
   "source": [
    "After the split X_train contains 3342 rows and 60 columns and X_test contains1115 rows and 60 columns"
   ]
  },
  {
   "cell_type": "code",
   "execution_count": null,
   "id": "c8db2fa6-2899-4830-9788-06e437363d71",
   "metadata": {},
   "outputs": [],
   "source": [
    "#Find null values for train set\n",
    "X_train.isnull().sum(axis=0)"
   ]
  },
  {
   "cell_type": "markdown",
   "id": "9657bd35-8e65-41f9-8431-bad703d35f89",
   "metadata": {},
   "source": [
    "The number of null values for each feature column in X_train is given. The missing values will be addressed during the preprocessing stage."
   ]
  },
  {
   "cell_type": "code",
   "execution_count": null,
   "id": "eb22a8d1-a79b-4e31-845e-6924e1dbdc98",
   "metadata": {},
   "outputs": [],
   "source": [
    "# Number of unique values for each feature column\n",
    "list(zip(X_train.columns, X_train.nunique()))"
   ]
  },
  {
   "cell_type": "markdown",
   "id": "196b91dc-54a3-4d48-9280-cde8877ec0db",
   "metadata": {},
   "source": [
    "\n",
    "|\n",
    "\n",
    "Here we discover that 19 of our features have a constant value. Thus these features will not provide any useful information to a machine learning algorithm for making predictions. Accordingly, these features need to be dropped from our data.\n",
    "\n",
    "This dataframe also contains 16 feature variables that do not contain any information and that also need to be dropped.\n",
    "\n",
    "There are also three constant features - 'Invoice.PaymentReference', 'Invoice.Number', and 'Line.UniqueId' - that have just as many unique values as rows in the dataframe. These feature do not provde any useful information for the classification problem and will also need to be dropped .\n",
    "\n",
    "By removing these features, the chance of overfitting will be reduced, the dimensionality of the feature space will be reduced, the model will be simplified, and overall performance of the classifier will improve. \n"
   ]
  },
  {
   "cell_type": "code",
   "execution_count": null,
   "id": "c7b2dddc-1a81-4e3f-9211-717fcb6a78eb",
   "metadata": {},
   "outputs": [],
   "source": [
    "y_train.isnull().sum(axis=0)"
   ]
  },
  {
   "cell_type": "code",
   "execution_count": null,
   "id": "8c3268e1-aeba-4857-9284-e348b5dc44cb",
   "metadata": {},
   "outputs": [],
   "source": [
    "y_test.isnull().sum(axis=0)"
   ]
  },
  {
   "cell_type": "code",
   "execution_count": null,
   "id": "698e8558-9e4f-486b-b922-a544353c5422",
   "metadata": {},
   "outputs": [],
   "source": [
    "# Check for balance of data\n",
    "print(y_train.value_counts())\n",
    "y_train. value_counts().plot(kind='bar', color =['green', 'black'])"
   ]
  },
  {
   "cell_type": "markdown",
   "id": "f8493006-9e91-482d-8fb6-0936a99dee18",
   "metadata": {},
   "source": [
    "There is a data imbalance in our target variable with the proportion of our minority class. Accordingly, techniques to mitigate the data imbalance should be used to address this.."
   ]
  },
  {
   "cell_type": "markdown",
   "id": "bd1b2d9d-2241-4a69-9eeb-3cf52d2cf6b0",
   "metadata": {},
   "source": [
    "### Bivariate Analysis"
   ]
  },
  {
   "cell_type": "code",
   "execution_count": null,
   "id": "544773f7-ba4e-4f3b-ac89-700c1b71e868",
   "metadata": {},
   "outputs": [],
   "source": [
    "pd.crosstab(y_train,\n",
    "            X_train['@CustomField(Invoice,TaxabilityClassification,Invoice,STRING)']).plot.bar()"
   ]
  },
  {
   "cell_type": "code",
   "execution_count": null,
   "id": "c99e62ac-6ef5-4855-8a5b-9d5bf77cd8f0",
   "metadata": {},
   "outputs": [],
   "source": [
    "# Create preprocessing\n",
    "# Create lists of Features that are being dropped due to no useful data\n",
    "\n",
    "constant_vals = ['Invoice.NetValue', 'Taxability.STATE.JurisdictionCode',\n",
    "                 'Taxability.STATE.JurisdictionDescription', 'Taxability.Mode',\n",
    "                 'Taxability.STATE.ReviewStatus', 'Taxability.STATE.Confidence', \n",
    "                 'Taxability.STATE.TaxEstimated.Rate', 'Line.ShipToAddress.State',\n",
    "                 '@CustomField(Invoice,DataSetName,Invoice,STRING)',\n",
    "                 '@CustomField(Invoice,MLConfidence,TaxAnalysis,DOUBLE)',\n",
    "                 'Invoice.Sequence', 'Line.Number', 'Invoice.GrossValue',\n",
    "                 'Invoice.SalesTaxPaid', 'Invoice.UseTax', 'Line.GrossValue',\n",
    "                 'Line.SalesTaxPaid', 'Line.UseTax', 'Line.NetValue']\n",
    "                   \n",
    "null_vals = ['Document.Name', 'Invoice.ShipToAddress.City',\n",
    "             'Invoice.ShipToAddress.State', 'Invoice.ShipToAddress.Street',\n",
    "             'Invoice.ShipToAddress.County', 'Invoice.ShipToAddress.Zip',\n",
    "             'Taxability.STATE.TaxEstimated.TaxableAmount',\n",
    "             'Line.ShipToAddress.City', 'Line.ShipToAddress.Street',\n",
    "             'Line.ShipToAddress.County', 'Line.ShipToAddress.Zip',\n",
    "             '@CustomField(Invoice,Cluster_Count,Invoice,INTEGER)',\n",
    "             '@CustomField(Invoice,TAMT,Invoice,DOUBLE)',\n",
    "             '@CustomField(Invoice,COUNTY_TAMT,Invoice,DOUBLE)',\n",
    "             '@CustomField(Invoice,OCRExtractedSalesTax,OCR,DOUBLE)',\n",
    "             '@CustomField(Invoice,OCRConfidence,OCR,DOUBLE)']\n",
    "\n",
    "constant_feats = ['Invoice.PaymentReference', 'Line.UniqueId', 'Invoice.Number']\n",
    "\n",
    "# Drop Features\n",
    "feature_drop1 = X_train.drop(constant_vals, axis=1)\n",
    "feature_drop2 = feature_drop1.drop(null_vals, axis=1)\n",
    "feature_drop3 = feature_drop2.drop(constant_feats, axis=1)\n",
    "X_train_final = feature_drop3\n",
    "y_train_final = y_train\n",
    "X_train_final.info()\n",
    "print('X_train_final dimensions: ')\n",
    "print(X_train_final.shape)"
   ]
  },
  {
   "cell_type": "markdown",
   "id": "851d30a1-21ce-4766-908e-264e31159483",
   "metadata": {},
   "source": [
    "After dropping the features that were not useful we now have 23 features and 3342 rows."
   ]
  },
  {
   "cell_type": "code",
   "execution_count": null,
   "id": "add103d6-dd52-4d42-9a28-b6509aa54e32",
   "metadata": {},
   "outputs": [],
   "source": [
    "X_train_final.isna().sum()"
   ]
  },
  {
   "cell_type": "code",
   "execution_count": null,
   "id": "bfc0e3e7-2a4a-4752-aeaa-f6ee53be1fe2",
   "metadata": {},
   "outputs": [],
   "source": [
    "X_train_final.head()"
   ]
  },
  {
   "cell_type": "code",
   "execution_count": null,
   "id": "f5b36736-b0b0-4cbd-b333-2d2009a61f42",
   "metadata": {},
   "outputs": [],
   "source": [
    "# Number of unique values for each feature column\n",
    "list(zip(X_train_final.columns, X_train_final.nunique()))"
   ]
  },
  {
   "cell_type": "code",
   "execution_count": null,
   "id": "29165042-d570-47a1-aa45-6aa727099e16",
   "metadata": {},
   "outputs": [],
   "source": []
  },
  {
   "cell_type": "code",
   "execution_count": null,
   "id": "70f65a12-f632-4434-8ad5-d84bdd9e2b3a",
   "metadata": {},
   "outputs": [],
   "source": [
    "# Replace null values for each categorical variable with 'most_frequent'\n",
    "cat_cols = ['Invoice.VendorName', 'Invoice.VendorCode', 'Taxability.STATE.Exemption.CategoryCode']\n",
    "cat_transformer = Pipeline(\n",
    "    steps = [('imputer', SimpleImputer(strategy = 'most_frequent'))])\n"
   ]
  },
  {
   "cell_type": "code",
   "execution_count": null,
   "id": "455e7a62-837a-49fc-b6e1-2bb5ff369bb9",
   "metadata": {},
   "outputs": [],
   "source": [
    "# Scale numeric values\n",
    "num_cols = ['Invoice.ParentCompanyCode', 'Invoice.VoucherCode']\n",
    "num_transformer = Pipeline(steps=[('scaler', StandardScaler())])\n",
    "    \n",
    "preprocessor = ColumnTransformer(\n",
    "    transformers=[\n",
    "        ('num', num_transformer, num_cols),\n",
    "        ('cat', cat_transformer, cat_cols)\n",
    "    ])"
   ]
  },
  {
   "cell_type": "markdown",
   "id": "e59bd85d-41b7-4256-8ff5-fb83e84a63e6",
   "metadata": {},
   "source": [
    "### Modeling"
   ]
  },
  {
   "cell_type": "markdown",
   "id": "28c3cce2-1113-4e88-8186-eb6397ff1ab8",
   "metadata": {
    "tags": []
   },
   "source": [
    "#### Random Forest Classifier using RandomSerchCV"
   ]
  },
  {
   "cell_type": "code",
   "execution_count": null,
   "id": "4281bae2-effb-4b6b-ae87-5547aafb20b2",
   "metadata": {},
   "outputs": [],
   "source": [
    "# Create pipeline\n",
    "pipe = Pipeline(\n",
    "    steps=[('preprocessor', preprocessor),\n",
    "          ('rfc', RandomForestClassifier())])\n",
    "\n",
    "# Declare rfc hyperparameters distribution\n",
    "param_dist ={'rfc__n_estimators': [100,200,300,500,700,800,1000],\n",
    "             'rfc__criterion': ['entropy', 'gini'],\n",
    "             'rfc__min_samples_split': [2,3,4,5,7,8,9,10],\n",
    "             'rfc__min_samples_leaf': [1,2,3,4,5],\n",
    "             'rfc__max_features': ['sqrt', 'log2'],\n",
    "             'rfc__max_depth':[1,2,3,4,5,6,7],\n",
    "             'rfc__random_state': [42],\n",
    "             'rfc__bootstrap': [True, False]\n",
    "                    }\n",
    "# Though not severe in any particular category, Because we are using a RandomForest\n",
    "# classifier, we will address the several data imbalances in this dataset \n",
    "# with the ensemble method of StratifiedKFold\n",
    "kf = StratifiedKFold()\n",
    "\n",
    "# Create RandomizedSearchCV and find optimal hyperparameters for rfc\n",
    "rs = RandomizedSearchCV(estimator=pipe, \n",
    "                        param_distributions=param_dist,\n",
    "                        n_iter=100,\n",
    "                        cv=kf,\n",
    "                        scoring='accuracy',\n",
    "                        n_jobs=-1,\n",
    "                        verbose=2,\n",
    "                   )\n",
    "# Fit rs to training data\n",
    "rs.fit(X_train_final, y_train_final)\n"
   ]
  },
  {
   "cell_type": "code",
   "execution_count": null,
   "id": "55dd93c6-f01f-43fd-9fe5-63254faba418",
   "metadata": {},
   "outputs": [],
   "source": [
    "best_params = rs.best_params_\n",
    "best_params"
   ]
  },
  {
   "cell_type": "code",
   "execution_count": null,
   "id": "31ff5096-98e4-43d7-8525-b5d988d56e38",
   "metadata": {},
   "outputs": [],
   "source": [
    "# View the best score\n",
    "best_score = rs.best_score_\n",
    "best_score"
   ]
  },
  {
   "cell_type": "code",
   "execution_count": null,
   "id": "9c2a1a4d",
   "metadata": {},
   "outputs": [],
   "source": [
    "import seaborn as sns\n",
    "import scipy.stats as st\n",
    "from sklearn import ensemble, tree, linear_model\n",
    "\n",
    "import warnings\n",
    "import matplotlib as mpl"
   ]
  },
  {
   "cell_type": "code",
   "execution_count": null,
   "id": "8bdb4d79",
   "metadata": {},
   "outputs": [],
   "source": [
    "data.loc[:,['Invoice.ParentCompanyCode','Taxability.STATE.Status']]"
   ]
  },
  {
   "cell_type": "code",
   "execution_count": null,
   "id": "8fcf498a",
   "metadata": {},
   "outputs": [],
   "source": [
    "data.iloc[:, 4:]"
   ]
  },
  {
   "cell_type": "code",
   "execution_count": null,
   "id": "b7ff4c2f",
   "metadata": {},
   "outputs": [],
   "source": [
    "data.memory_usage(deep=True)"
   ]
  },
  {
   "cell_type": "code",
   "execution_count": null,
   "id": "db6a4a98",
   "metadata": {},
   "outputs": [],
   "source": [
    "data['Taxability.STATE.Status'].value_counts()"
   ]
  },
  {
   "cell_type": "code",
   "execution_count": null,
   "id": "f9b72812",
   "metadata": {},
   "outputs": [],
   "source": [
    "data['Taxability.STATE.Exemption.CategoryCode'].value_counts()"
   ]
  },
  {
   "cell_type": "code",
   "execution_count": null,
   "id": "5c16be01",
   "metadata": {},
   "outputs": [],
   "source": []
  },
  {
   "cell_type": "code",
   "execution_count": null,
   "id": "0cfcc3a0",
   "metadata": {},
   "outputs": [],
   "source": [
    "print(data.info())"
   ]
  },
  {
   "cell_type": "code",
   "execution_count": null,
   "id": "9b6182a7",
   "metadata": {},
   "outputs": [],
   "source": [
    "data.drop(\"Document.Name\",axis=1,inplace=True)"
   ]
  },
  {
   "cell_type": "code",
   "execution_count": null,
   "id": "b36bb506",
   "metadata": {
    "scrolled": true
   },
   "outputs": [],
   "source": [
    "data.info()"
   ]
  },
  {
   "cell_type": "markdown",
   "id": "aacf3218",
   "metadata": {},
   "source": [
    "### Dropped Columns with 0 entries"
   ]
  },
  {
   "cell_type": "code",
   "execution_count": null,
   "id": "e8b93ef0",
   "metadata": {},
   "outputs": [],
   "source": []
  },
  {
   "cell_type": "code",
   "execution_count": null,
   "id": "f8e35def",
   "metadata": {},
   "outputs": [],
   "source": [
    "data.drop(\"Invoice.ShipToAddress.City\",axis=1,inplace=True)\n",
    "data.drop(\"Invoice.ShipToAddress.State\",axis=1,inplace=True)\n",
    "data.drop(\"Invoice.ShipToAddress.Street\",axis=1,inplace=True)\n",
    "data.drop(\"Invoice.ShipToAddress.County\",axis=1,inplace=True)\n",
    "data.drop(\"Invoice.ShipToAddress.Zip\",axis=1,inplace=True)\n",
    "data.drop(\"Taxability.STATE.TaxEstimated.TaxableAmount\",axis=1,inplace=True)\n",
    "data.drop(\"Line.ShipToAddress.City\",axis=1,inplace=True)\n",
    "data.drop(\"Line.ShipToAddress.Street\",axis=1,inplace=True)\n",
    "data.drop(\"Line.ShipToAddress.County\",axis=1,inplace=True)\n",
    "data.drop(\"Line.ShipToAddress.Zip\",axis=1,inplace=True)\n",
    "data.drop(\"@CustomField(Invoice,Cluster_Count,Invoice,INTEGER)\",axis=1,inplace=True)\n",
    "data.drop(\"@CustomField(Invoice,TAMT,Invoice,DOUBLE)\",axis=1,inplace=True)\n",
    "data.drop(\"@CustomField(Invoice,COUNTY_TAMT,Invoice,DOUBLE)\",axis=1,inplace=True)\n",
    "data.drop(\"@CustomField(Invoice,OCRExtractedSalesTax,OCR,DOUBLE)\",axis=1,inplace=True)\n",
    "data.drop(\"@CustomField(Invoice,OCRConfidence,OCR,DOUBLE)\",axis=1,inplace=True)"
   ]
  },
  {
   "cell_type": "code",
   "execution_count": null,
   "id": "e83db295",
   "metadata": {},
   "outputs": [],
   "source": [
    "data.info()"
   ]
  },
  {
   "cell_type": "code",
   "execution_count": null,
   "id": "cdd3d7b3",
   "metadata": {},
   "outputs": [],
   "source": [
    "print(data.isnull().sum())"
   ]
  },
  {
   "cell_type": "code",
   "execution_count": null,
   "id": "849ca290",
   "metadata": {},
   "outputs": [],
   "source": [
    "data.info()"
   ]
  },
  {
   "cell_type": "code",
   "execution_count": null,
   "id": "d02d69ec",
   "metadata": {},
   "outputs": [],
   "source": [
    "updated_data=data\n",
    "print(updated_data.info())"
   ]
  },
  {
   "cell_type": "code",
   "execution_count": null,
   "id": "4e0d06b9",
   "metadata": {},
   "outputs": [],
   "source": [
    "updated_data=updated_data.replace(to_replace=\"N.A\",value=np.nan)"
   ]
  },
  {
   "cell_type": "code",
   "execution_count": null,
   "id": "b4fe634e",
   "metadata": {},
   "outputs": [],
   "source": [
    "updated_data=updated_data.replace(to_replace=\"global thing\",value=np.nan)"
   ]
  },
  {
   "cell_type": "code",
   "execution_count": null,
   "id": "8538cdf9",
   "metadata": {},
   "outputs": [],
   "source": [
    "updated_data.isna().sum()"
   ]
  },
  {
   "cell_type": "code",
   "execution_count": null,
   "id": "1268427b",
   "metadata": {},
   "outputs": [],
   "source": [
    "print(updated_data[\"Taxability.STATE.Exemption.CategoryCode\"].head(25))"
   ]
  },
  {
   "cell_type": "code",
   "execution_count": null,
   "id": "d364dfd9",
   "metadata": {},
   "outputs": [],
   "source": []
  },
  {
   "cell_type": "code",
   "execution_count": null,
   "id": "9a336033",
   "metadata": {},
   "outputs": [],
   "source": []
  },
  {
   "cell_type": "code",
   "execution_count": null,
   "id": "bff51b7e",
   "metadata": {},
   "outputs": [],
   "source": []
  },
  {
   "cell_type": "code",
   "execution_count": null,
   "id": "58c904fd",
   "metadata": {},
   "outputs": [],
   "source": []
  },
  {
   "cell_type": "code",
   "execution_count": null,
   "id": "6c668292",
   "metadata": {},
   "outputs": [],
   "source": []
  },
  {
   "cell_type": "code",
   "execution_count": null,
   "id": "6067b720",
   "metadata": {},
   "outputs": [],
   "source": []
  },
  {
   "cell_type": "code",
   "execution_count": null,
   "id": "f87a2d5b",
   "metadata": {},
   "outputs": [],
   "source": []
  },
  {
   "cell_type": "code",
   "execution_count": null,
   "id": "0f4f8e8d",
   "metadata": {},
   "outputs": [],
   "source": []
  },
  {
   "cell_type": "code",
   "execution_count": null,
   "id": "a869bf24",
   "metadata": {},
   "outputs": [],
   "source": []
  },
  {
   "cell_type": "code",
   "execution_count": null,
   "id": "58afbfde",
   "metadata": {},
   "outputs": [],
   "source": []
  },
  {
   "cell_type": "code",
   "execution_count": null,
   "id": "213e6256",
   "metadata": {},
   "outputs": [],
   "source": []
  },
  {
   "cell_type": "code",
   "execution_count": null,
   "id": "1762fb9c",
   "metadata": {},
   "outputs": [],
   "source": []
  }
 ],
 "metadata": {
  "kernelspec": {
   "display_name": "Python 3 (ipykernel)",
   "language": "python",
   "name": "python3"
  },
  "language_info": {
   "codemirror_mode": {
    "name": "ipython",
    "version": 3
   },
   "file_extension": ".py",
   "mimetype": "text/x-python",
   "name": "python",
   "nbconvert_exporter": "python",
   "pygments_lexer": "ipython3",
   "version": "3.9.12"
  }
 },
 "nbformat": 4,
 "nbformat_minor": 5
}
